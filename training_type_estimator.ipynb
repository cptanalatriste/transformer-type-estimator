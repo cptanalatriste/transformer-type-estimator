{
 "cells": [
  {
   "cell_type": "markdown",
   "metadata": {},
   "source": [
    "# Training the Language-Based Type Estimator"
   ]
  },
  {
   "cell_type": "markdown",
   "metadata": {},
   "source": [
    "## Boilerplate\n",
    "\n",
    "* For code change detection\n",
    "* Seeing log messages inside the notebook\n",
    "* Checking TensorFlow configuration.\n",
    "* Setting random seeds"
   ]
  },
  {
   "cell_type": "code",
   "execution_count": 44,
   "metadata": {},
   "outputs": [
    {
     "name": "stderr",
     "output_type": "stream",
     "text": [
      "INFO:root:Tensorflow version 2.11.0\n",
      "INFO:root:Devices available: [PhysicalDevice(name='/physical_device:CPU:0', device_type='CPU'), PhysicalDevice(name='/physical_device:GPU:0', device_type='GPU')]\n",
      "INFO:root:Starting analysis...\n"
     ]
    },
    {
     "name": "stdout",
     "output_type": "stream",
     "text": [
      "The autoreload extension is already loaded. To reload it, use:\n",
      "  %reload_ext autoreload\n"
     ]
    }
   ],
   "source": [
    "%load_ext autoreload\n",
    "%autoreload 2\n",
    "\n",
    "SEED: int = 42\n",
    "\n",
    "import logging\n",
    "logger: logging.Logger = logging.getLogger()\n",
    "logger.setLevel(logging.INFO)\n",
    "\n",
    "import tensorflow as tf\n",
    "tf.random.set_seed(SEED)\n",
    "\n",
    "import numpy as np\n",
    "np.random.seed(SEED)\n",
    "\n",
    "logging.info(f\"Tensorflow version {tf.__version__}\")\n",
    "logging.info(f\"Devices available: {tf.config.list_physical_devices()}\")\n",
    "\n",
    "logging.info(\"Starting analysis...\")"
   ]
  },
  {
   "cell_type": "markdown",
   "metadata": {},
   "source": [
    "## Data Exploration\n",
    "\n",
    "Checking label counts on the training dataset"
   ]
  },
  {
   "cell_type": "code",
   "execution_count": 45,
   "metadata": {},
   "outputs": [
    {
     "data": {
      "text/plain": "<AxesSubplot: xlabel='will_help', ylabel='count'>"
     },
     "execution_count": 45,
     "metadata": {},
     "output_type": "execute_result"
    },
    {
     "data": {
      "text/plain": "<Figure size 640x480 with 1 Axes>",
      "image/png": "[encoded data removed]"
     },
     "metadata": {},
     "output_type": "display_data"
    }
   ],
   "source": [
    "from sklearn.model_selection import train_test_split\n",
    "import pandas as pd\n",
    "import seaborn as sns\n",
    "\n",
    "TRAINING_DATA_CSV_FILE = \"data/training_data.csv\"\n",
    "training_dataset: pd.DataFrame = pd.read_csv(TRAINING_DATA_CSV_FILE)\n",
    "validation_dataset: pd.DataFrame\n",
    "training_dataset, validation_dataset = train_test_split(training_dataset, test_size=0.5)\n",
    "\n",
    "sns.countplot(x=\"will_help\", data=training_dataset)"
   ]
  },
  {
   "cell_type": "markdown",
   "metadata": {},
   "source": [
    "## Sanity Checks\n",
    "\n",
    "Let's train on a single sample, to verify data loading is working fine. We expect perfect accuracy after a few iterations."
   ]
  },
  {
   "cell_type": "code",
   "execution_count": 46,
   "metadata": {},
   "outputs": [],
   "source": [
    "from transformer_analyser import TransformerTypeAnalyser\n",
    "\n",
    "type_analyser: TransformerTypeAnalyser = TransformerTypeAnalyser(epochs=5)\n",
    "# type_analyser.train(training_dataset.head(1))"
   ]
  },
  {
   "cell_type": "markdown",
   "metadata": {},
   "source": [
    "Instead of a single sample, we now train over a very small dataset. Again, we expect perfect accuracy after a few iterations."
   ]
  },
  {
   "cell_type": "code",
   "execution_count": 47,
   "metadata": {},
   "outputs": [
    {
     "name": "stderr",
     "output_type": "stream",
     "text": [
      "INFO:root:1    3\n",
      "0    2\n",
      "Name: will_help, dtype: int64\n"
     ]
    }
   ],
   "source": [
    "small_sample: pd.DataFrame\n",
    "_, small_sample = train_test_split(training_dataset, test_size=0.07, stratify=training_dataset[\"will_help\"])\n",
    "\n",
    "logging.info(small_sample[\"will_help\"].value_counts())\n",
    "type_analyser = TransformerTypeAnalyser(epochs=10)\n",
    "# type_analyser.train(small_sample)\n"
   ]
  },
  {
   "cell_type": "markdown",
   "metadata": {},
   "source": [
    "## Training the model\n",
    "Training and validating with holdout data"
   ]
  },
  {
   "cell_type": "code",
   "execution_count": 48,
   "metadata": {},
   "outputs": [],
   "source": [
    "type_analyser = TransformerTypeAnalyser(epochs=15, batch_size=8, learning_rate=3e-5)\n",
    "# type_analyser.train(training_data=training_dataset, testing_data=validation_dataset)\n"
   ]
  },
  {
   "cell_type": "markdown",
   "source": [
    "## Calibrating Probabilities\n",
    "\n",
    "First, let's evaluate probabilities right after training, over the validation dataset. We are using the Brier Score: smaller values are better."
   ],
   "metadata": {
    "collapsed": false
   }
  },
  {
   "cell_type": "code",
   "execution_count": 49,
   "outputs": [
    {
     "name": "stderr",
     "output_type": "stream",
     "text": [
      "INFO:root:Loading model from ./model\n",
      "Some layers from the model checkpoint at ./model were not used when initializing TFBertForSequenceClassification: ['dropout_37']\n",
      "- This IS expected if you are initializing TFBertForSequenceClassification from the checkpoint of a model trained on another task or with another architecture (e.g. initializing a BertForSequenceClassification model from a BertForPreTraining model).\n",
      "- This IS NOT expected if you are initializing TFBertForSequenceClassification from the checkpoint of a model that you expect to be exactly identical (initializing a BertForSequenceClassification model from a BertForSequenceClassification model).\n",
      "All the layers of TFBertForSequenceClassification were initialized from the model checkpoint at ./model.\n",
      "If your task is similar to the task the model of the checkpoint was trained on, you can already use TFBertForSequenceClassification for predictions without further training.\n",
      "/home/cgc87/anaconda3/envs/tf/lib/python3.9/site-packages/transformers/pipelines/text_classification.py:104: UserWarning: `return_all_scores` is now deprecated,  if want a similar funcionality use `top_k=None` instead of `return_all_scores=True` or `top_k=1` instead of `return_all_scores=False`.\n",
      "  warnings.warn(\n",
      "INFO:root:Brier score after training: 0.10308022553227876\n"
     ]
    }
   ],
   "source": [
    "from sklearn.metrics import brier_score_loss\n",
    "from sklearn.calibration import calibration_curve\n",
    "from typing import List\n",
    "\n",
    "trained_type_analyser: TransformerTypeAnalyser = TransformerTypeAnalyser()\n",
    "validation_text: List[str] = validation_dataset[\"text\"].astype(str).tolist()\n",
    "validation_probabilities: List[float] = trained_type_analyser.obtain_probabilities(validation_text, local=True)\n",
    "validation_types: pd.Series = validation_dataset[\"will_help\"].tolist()\n",
    "\n",
    "brier_score: float = brier_score_loss(validation_types, validation_probabilities)\n",
    "logging.info(f\"Brier score after training: {brier_score}\")\n",
    "\n"
   ],
   "metadata": {
    "collapsed": false
   }
  },
  {
   "cell_type": "code",
   "execution_count": 50,
   "outputs": [],
   "source": [
    "number_of_bins: int = 10\n",
    "bin_true_probabilities, bin_predicted_probabilities = calibration_curve(validation_types, validation_probabilities,\n",
    "                                                                       n_bins=number_of_bins)"
   ],
   "metadata": {
    "collapsed": false
   }
  }
 ],
 "metadata": {
  "kernelspec": {
   "display_name": "Python 3 (ipykernel)",
   "language": "python",
   "name": "python3"
  },
  "language_info": {
   "codemirror_mode": {
    "name": "ipython",
    "version": 3
   },
   "file_extension": ".py",
   "mimetype": "text/x-python",
   "name": "python",
   "nbconvert_exporter": "python",
   "pygments_lexer": "ipython3",
   "version": "3.9.15"
  }
 },
 "nbformat": 4,
 "nbformat_minor": 1
}
